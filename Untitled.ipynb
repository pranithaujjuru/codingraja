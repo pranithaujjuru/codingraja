{
 "cells": [
  {
   "cell_type": "code",
   "execution_count": 2,
   "id": "9d9e3d10",
   "metadata": {},
   "outputs": [],
   "source": [
    "import tensorflow as tf\n",
    "from tensorflow.keras import layers,models\n",
    "import matplotlib.pyplot as plt"
   ]
  },
  {
   "cell_type": "code",
   "execution_count": 97,
   "id": "652bf36a",
   "metadata": {},
   "outputs": [],
   "source": [
    "img_size=256\n",
    "bat_size=25\n",
    "channels=3\n",
    "epoc=35"
   ]
  },
  {
   "cell_type": "code",
   "execution_count": 98,
   "id": "9abc8fb1",
   "metadata": {
    "scrolled": true
   },
   "outputs": [
    {
     "name": "stdout",
     "output_type": "stream",
     "text": [
      "Found 9900 files belonging to 11 classes.\n"
     ]
    }
   ],
   "source": [
    "data=tf.keras.preprocessing.image_dataset_from_directory('train',\n",
    "                                                         shuffle=True,\n",
    "                                                         image_size=(img_size,img_size),\n",
    "                                                         batch_size=bat_size\n",
    "                                                        )"
   ]
  },
  {
   "cell_type": "code",
   "execution_count": 99,
   "id": "2c0addfa",
   "metadata": {},
   "outputs": [
    {
     "name": "stdout",
     "output_type": "stream",
     "text": [
      "(25, 256, 256, 3)\n",
      "(25,)\n"
     ]
    }
   ],
   "source": [
    "import numpy\n",
    "for image,label in data.take(1):\n",
    "    print(image.shape)\n",
    "    print(label.shape)"
   ]
  },
  {
   "cell_type": "code",
   "execution_count": 100,
   "id": "ffe1a57f",
   "metadata": {},
   "outputs": [
    {
     "data": {
      "text/plain": [
       "['apple_pie',\n",
       " 'cheesecake',\n",
       " 'chicken_curry',\n",
       " 'french_fries',\n",
       " 'fried_rice',\n",
       " 'hamburger',\n",
       " 'hot_dog',\n",
       " 'ice_cream',\n",
       " 'omelette',\n",
       " 'pizza',\n",
       " 'sushi']"
      ]
     },
     "execution_count": 100,
     "metadata": {},
     "output_type": "execute_result"
    }
   ],
   "source": [
    "classes=data.class_names\n",
    "classes"
   ]
  },
  {
   "cell_type": "code",
   "execution_count": 101,
   "id": "c87ed8e0",
   "metadata": {},
   "outputs": [
    {
     "data": {
      "text/plain": [
       "316.8"
      ]
     },
     "execution_count": 101,
     "metadata": {},
     "output_type": "execute_result"
    }
   ],
   "source": [
    "train_size=0.8\n",
    "len(data)*train_size"
   ]
  },
  {
   "cell_type": "code",
   "execution_count": 102,
   "id": "0ae7ccca",
   "metadata": {},
   "outputs": [],
   "source": [
    "train_data=data.take(316)"
   ]
  },
  {
   "cell_type": "code",
   "execution_count": 103,
   "id": "d000552b",
   "metadata": {},
   "outputs": [],
   "source": [
    "test_data=data.skip(316)"
   ]
  },
  {
   "cell_type": "code",
   "execution_count": 104,
   "id": "7448ed2f",
   "metadata": {},
   "outputs": [],
   "source": [
    "val_data=test_data.take(39)"
   ]
  },
  {
   "cell_type": "code",
   "execution_count": 105,
   "id": "ac8649a7",
   "metadata": {},
   "outputs": [],
   "source": [
    "train_data=train_data.cache().shuffle(1000).prefetch(buffer_size=tf.data.AUTOTUNE)\n",
    "test_data=test_data.cache().shuffle(1000).prefetch(buffer_size=tf.data.AUTOTUNE)"
   ]
  },
  {
   "cell_type": "code",
   "execution_count": 106,
   "id": "e84e78c1",
   "metadata": {},
   "outputs": [],
   "source": [
    "resize=tf.keras.Sequential([\n",
    "    layers.experimental.preprocessing.Resizing(img_size,img_size),\n",
    "    layers.experimental.preprocessing.Rescaling(1.0/255)\n",
    "])"
   ]
  },
  {
   "cell_type": "code",
   "execution_count": 107,
   "id": "17192fcc",
   "metadata": {},
   "outputs": [],
   "source": [
    "data_agumentation=tf.keras.Sequential([\n",
    "    layers.experimental.preprocessing.RandomFlip(mode='horizontal_and_vertical'),\n",
    "    \n",
    "])"
   ]
  },
  {
   "cell_type": "code",
   "execution_count": 108,
   "id": "8067ded1",
   "metadata": {},
   "outputs": [],
   "source": [
    "input_sh=(bat_size,img_size,img_size,channels)\n",
    "n_class=11\n",
    "model= models.Sequential([\n",
    "    resize,\n",
    "    layers.InputLayer(input_shape=input_sh),\n",
    "    layers.Conv2D(32,(3,3),activation='relu'),\n",
    "    layers.MaxPool2D((2, 2)),\n",
    "    layers.Conv2D(64,(3,3),activation='relu'),\n",
    "    layers.MaxPool2D((2, 2)),\n",
    "    layers.Conv2D(64,(3,3),activation='relu'),\n",
    "    layers.MaxPool2D((2, 2)),\n",
    "    layers.Conv2D(64,(3,3),activation='relu'),\n",
    "    layers.MaxPool2D((2, 2)),\n",
    "    layers.Conv2D(64,(3,3),activation='relu'),\n",
    "    layers.MaxPool2D((2, 2)),\n",
    "    layers.Conv2D(64,(3,3),activation='relu'),\n",
    "    layers.MaxPool2D((2, 2)),\n",
    "    layers.Flatten(),\n",
    "    layers.Dense(64,activation='relu'),\n",
    "    layers.Dense(n_class,activation='softmax'),\n",
    "    \n",
    "    \n",
    "])\n",
    "model.build(input_shape=input_sh)"
   ]
  },
  {
   "cell_type": "code",
   "execution_count": 109,
   "id": "be78b652",
   "metadata": {
    "scrolled": false
   },
   "outputs": [
    {
     "name": "stdout",
     "output_type": "stream",
     "text": [
      "Model: \"sequential_21\"\n",
      "_________________________________________________________________\n",
      " Layer (type)                Output Shape              Param #   \n",
      "=================================================================\n",
      " sequential_19 (Sequential)  (25, 256, 256, 3)         0         \n",
      "                                                                 \n",
      " input_13 (InputLayer)       multiple                  0         \n",
      "                                                                 \n",
      " conv2d_74 (Conv2D)          (25, 254, 254, 32)        896       \n",
      "                                                                 \n",
      " max_pooling2d_71 (MaxPoolin  (25, 127, 127, 32)       0         \n",
      " g2D)                                                            \n",
      "                                                                 \n",
      " conv2d_75 (Conv2D)          (25, 125, 125, 64)        18496     \n",
      "                                                                 \n",
      " max_pooling2d_72 (MaxPoolin  (25, 62, 62, 64)         0         \n",
      " g2D)                                                            \n",
      "                                                                 \n",
      " conv2d_76 (Conv2D)          (25, 60, 60, 64)          36928     \n",
      "                                                                 \n",
      " max_pooling2d_73 (MaxPoolin  (25, 30, 30, 64)         0         \n",
      " g2D)                                                            \n",
      "                                                                 \n",
      " conv2d_77 (Conv2D)          (25, 28, 28, 64)          36928     \n",
      "                                                                 \n",
      " max_pooling2d_74 (MaxPoolin  (25, 14, 14, 64)         0         \n",
      " g2D)                                                            \n",
      "                                                                 \n",
      " conv2d_78 (Conv2D)          (25, 12, 12, 64)          36928     \n",
      "                                                                 \n",
      " max_pooling2d_75 (MaxPoolin  (25, 6, 6, 64)           0         \n",
      " g2D)                                                            \n",
      "                                                                 \n",
      " conv2d_79 (Conv2D)          (25, 4, 4, 64)            36928     \n",
      "                                                                 \n",
      " max_pooling2d_76 (MaxPoolin  (25, 2, 2, 64)           0         \n",
      " g2D)                                                            \n",
      "                                                                 \n",
      " flatten_12 (Flatten)        (25, 256)                 0         \n",
      "                                                                 \n",
      " dense_24 (Dense)            (25, 64)                  16448     \n",
      "                                                                 \n",
      " dense_25 (Dense)            (25, 11)                  715       \n",
      "                                                                 \n",
      "=================================================================\n",
      "Total params: 184,267\n",
      "Trainable params: 184,267\n",
      "Non-trainable params: 0\n",
      "_________________________________________________________________\n"
     ]
    }
   ],
   "source": [
    "model.summary()"
   ]
  },
  {
   "cell_type": "code",
   "execution_count": 110,
   "id": "211bac2d",
   "metadata": {},
   "outputs": [],
   "source": [
    "model.compile(\n",
    "    optimizer='adam',\n",
    "    loss=tf.keras.losses.SparseCategoricalCrossentropy(from_logits=False),\n",
    "    metrics=['accuracy']\n",
    ")"
   ]
  },
  {
   "cell_type": "code",
   "execution_count": null,
   "id": "0dceb248",
   "metadata": {},
   "outputs": [
    {
     "name": "stdout",
     "output_type": "stream",
     "text": [
      "Epoch 1/35\n",
      "316/316 [==============================] - 41s 113ms/step - loss: 2.3293 - accuracy: 0.1397 - val_loss: 2.2798 - val_accuracy: 0.1672\n",
      "Epoch 2/35\n",
      "316/316 [==============================] - 35s 112ms/step - loss: 2.2380 - accuracy: 0.1847 - val_loss: 2.2135 - val_accuracy: 0.2031\n",
      "Epoch 3/35\n",
      "316/316 [==============================] - 35s 111ms/step - loss: 2.1845 - accuracy: 0.2262 - val_loss: 2.1501 - val_accuracy: 0.2082\n",
      "Epoch 4/35\n",
      "316/316 [==============================] - 35s 111ms/step - loss: 2.1359 - accuracy: 0.2546 - val_loss: 2.1102 - val_accuracy: 0.2421\n",
      "Epoch 5/35\n",
      "316/316 [==============================] - 35s 111ms/step - loss: 2.0845 - accuracy: 0.2738 - val_loss: 2.0985 - val_accuracy: 0.2585\n",
      "Epoch 6/35\n",
      "316/316 [==============================] - 35s 111ms/step - loss: 2.0065 - accuracy: 0.3109 - val_loss: 2.0647 - val_accuracy: 0.2862\n",
      "Epoch 7/35\n",
      "316/316 [==============================] - 35s 111ms/step - loss: 1.9400 - accuracy: 0.3306 - val_loss: 2.0389 - val_accuracy: 0.2964\n",
      "Epoch 8/35\n",
      "316/316 [==============================] - 36s 114ms/step - loss: 1.8444 - accuracy: 0.3633 - val_loss: 2.0144 - val_accuracy: 0.3128\n",
      "Epoch 9/35\n",
      "316/316 [==============================] - 35s 112ms/step - loss: 1.7671 - accuracy: 0.3920 - val_loss: 2.0424 - val_accuracy: 0.3313\n",
      "Epoch 10/35\n",
      "316/316 [==============================] - 35s 112ms/step - loss: 1.6496 - accuracy: 0.4329 - val_loss: 2.0679 - val_accuracy: 0.3282\n",
      "Epoch 11/35\n",
      "316/316 [==============================] - 35s 112ms/step - loss: 1.5338 - accuracy: 0.4800 - val_loss: 2.0863 - val_accuracy: 0.3456\n",
      "Epoch 12/35\n",
      "316/316 [==============================] - 36s 114ms/step - loss: 1.4293 - accuracy: 0.5182 - val_loss: 2.1921 - val_accuracy: 0.3446\n",
      "Epoch 13/35\n",
      "316/316 [==============================] - 35s 112ms/step - loss: 1.3035 - accuracy: 0.5571 - val_loss: 2.2067 - val_accuracy: 0.3456\n",
      "Epoch 14/35\n",
      "316/316 [==============================] - 35s 112ms/step - loss: 1.1809 - accuracy: 0.5958 - val_loss: 2.2789 - val_accuracy: 0.3333\n",
      "Epoch 15/35\n",
      "316/316 [==============================] - 35s 112ms/step - loss: 1.0742 - accuracy: 0.6409 - val_loss: 2.3342 - val_accuracy: 0.3538\n",
      "Epoch 16/35\n",
      "316/316 [==============================] - 35s 112ms/step - loss: 0.9404 - accuracy: 0.6822 - val_loss: 2.6341 - val_accuracy: 0.3641\n",
      "Epoch 17/35\n",
      "316/316 [==============================] - 35s 112ms/step - loss: 0.8260 - accuracy: 0.7211 - val_loss: 3.0748 - val_accuracy: 0.3354\n",
      "Epoch 18/35\n",
      "316/316 [==============================] - 35s 112ms/step - loss: 0.7453 - accuracy: 0.7405 - val_loss: 3.0184 - val_accuracy: 0.3559\n",
      "Epoch 19/35\n",
      "316/316 [==============================] - 35s 112ms/step - loss: 0.6569 - accuracy: 0.7775 - val_loss: 3.2366 - val_accuracy: 0.3477\n",
      "Epoch 20/35\n",
      "316/316 [==============================] - 36s 113ms/step - loss: 0.5997 - accuracy: 0.7996 - val_loss: 3.5496 - val_accuracy: 0.3528\n",
      "Epoch 21/35\n",
      "316/316 [==============================] - 35s 112ms/step - loss: 0.5213 - accuracy: 0.8238 - val_loss: 3.7411 - val_accuracy: 0.3590\n",
      "Epoch 22/35\n",
      "316/316 [==============================] - 35s 112ms/step - loss: 0.4899 - accuracy: 0.8338 - val_loss: 3.9872 - val_accuracy: 0.3528\n",
      "Epoch 23/35\n",
      "316/316 [==============================] - 35s 112ms/step - loss: 0.4539 - accuracy: 0.8462 - val_loss: 4.4907 - val_accuracy: 0.3785\n",
      "Epoch 24/35\n",
      "316/316 [==============================] - 35s 112ms/step - loss: 0.3862 - accuracy: 0.8648 - val_loss: 4.7105 - val_accuracy: 0.3436\n",
      "Epoch 25/35\n",
      "316/316 [==============================] - 35s 112ms/step - loss: 0.3850 - accuracy: 0.8673 - val_loss: 4.4876 - val_accuracy: 0.3651\n",
      "Epoch 26/35\n",
      "316/316 [==============================] - 35s 112ms/step - loss: 0.3697 - accuracy: 0.8758 - val_loss: 4.7496 - val_accuracy: 0.3579\n",
      "Epoch 27/35\n",
      "316/316 [==============================] - 35s 112ms/step - loss: 0.3302 - accuracy: 0.8896 - val_loss: 5.4874 - val_accuracy: 0.3477\n",
      "Epoch 28/35\n",
      "316/316 [==============================] - 35s 112ms/step - loss: 0.3447 - accuracy: 0.8854 - val_loss: 5.3796 - val_accuracy: 0.3354\n",
      "Epoch 29/35\n",
      "316/316 [==============================] - 35s 112ms/step - loss: 0.2723 - accuracy: 0.9059 - val_loss: 6.2362 - val_accuracy: 0.3159\n",
      "Epoch 30/35\n",
      "316/316 [==============================] - 35s 111ms/step - loss: 0.2931 - accuracy: 0.9042 - val_loss: 6.2522 - val_accuracy: 0.3313\n",
      "Epoch 31/35\n",
      "316/316 [==============================] - 35s 111ms/step - loss: 0.2918 - accuracy: 0.9037 - val_loss: 5.4749 - val_accuracy: 0.3303\n",
      "Epoch 32/35\n",
      "316/316 [==============================] - 35s 112ms/step - loss: 0.2435 - accuracy: 0.9172 - val_loss: 6.4315 - val_accuracy: 0.3508\n",
      "Epoch 33/35\n",
      "316/316 [==============================] - 35s 112ms/step - loss: 0.1917 - accuracy: 0.9352 - val_loss: 6.4797 - val_accuracy: 0.3733\n",
      "Epoch 34/35\n",
      "316/316 [==============================] - ETA: 0s - loss: 0.2649 - accuracy: 0.9148"
     ]
    }
   ],
   "source": [
    "history= model.fit(\n",
    "    train_data,\n",
    "    epochs=epoc,\n",
    "    batch_size=bat_size,\n",
    "    verbose=1,\n",
    "    validation_data=val_data\n",
    ")"
   ]
  },
  {
   "cell_type": "code",
   "execution_count": 92,
   "id": "00822cef",
   "metadata": {
    "scrolled": true
   },
   "outputs": [
    {
     "name": "stdout",
     "output_type": "stream",
     "text": [
      "80/80 [==============================] - 8s 26ms/step - loss: 4.2785 - accuracy: 0.3730\n"
     ]
    }
   ],
   "source": [
    "scores=model.evaluate(test_data)"
   ]
  },
  {
   "cell_type": "code",
   "execution_count": 93,
   "id": "717518f8",
   "metadata": {},
   "outputs": [
    {
     "data": {
      "text/plain": [
       "[0.1217721551656723,\n",
       " 0.1978480964899063,\n",
       " 0.25430378317832947,\n",
       " 0.2906329035758972,\n",
       " 0.33784809708595276,\n",
       " 0.374430388212204,\n",
       " 0.40594935417175293,\n",
       " 0.4386076033115387,\n",
       " 0.4760759472846985,\n",
       " 0.5083544254302979,\n",
       " 0.546329140663147,\n",
       " 0.5792405009269714,\n",
       " 0.6130380034446716,\n",
       " 0.6578481197357178,\n",
       " 0.693544328212738,\n",
       " 0.7318987250328064,\n",
       " 0.7597468495368958,\n",
       " 0.7883544564247131,\n",
       " 0.8197468519210815,\n",
       " 0.8327848315238953,\n",
       " 0.8529114127159119,\n",
       " 0.8646835684776306,\n",
       " 0.8906329274177551,\n",
       " 0.892405092716217,\n",
       " 0.9003797173500061]"
      ]
     },
     "execution_count": 93,
     "metadata": {},
     "output_type": "execute_result"
    }
   ],
   "source": [
    "history.history['accuracy']"
   ]
  },
  {
   "cell_type": "code",
   "execution_count": 94,
   "id": "9f4085a7",
   "metadata": {},
   "outputs": [
    {
     "data": {
      "text/plain": [
       "dict_keys(['loss', 'accuracy', 'val_loss', 'val_accuracy'])"
      ]
     },
     "execution_count": 94,
     "metadata": {},
     "output_type": "execute_result"
    }
   ],
   "source": [
    "history.history.keys()"
   ]
  },
  {
   "cell_type": "code",
   "execution_count": 95,
   "id": "18002950",
   "metadata": {},
   "outputs": [],
   "source": [
    "acc=history.history['accuracy']\n",
    "los=history.history['loss']\n",
    "val_acc=history.history['val_accuracy']\n",
    "val_loss=history.history['val_loss']"
   ]
  },
  {
   "cell_type": "code",
   "execution_count": 96,
   "id": "9f3ec591",
   "metadata": {},
   "outputs": [
    {
     "data": {
      "text/plain": [
       "Text(0.5, 1.0, 'loss')"
      ]
     },
     "execution_count": 96,
     "metadata": {},
     "output_type": "execute_result"
    },
    {
     "data": {
      "image/png": "[encoded data removed]",
      "text/plain": [
       "<Figure size 800x800 with 1 Axes>"
      ]
     },
     "metadata": {},
     "output_type": "display_data"
    },
    {
     "data": {
      "image/png": "[encoded data removed]",
      "text/plain": [
       "<Figure size 800x800 with 1 Axes>"
      ]
     },
     "metadata": {},
     "output_type": "display_data"
    }
   ],
   "source": [
    "plt.figure(figsize=(8,8))\n",
    "plt.subplot(1,2,1)\n",
    "plt.plot(range(epoc),acc,label='training accuracy')\n",
    "plt.plot(range(epoc),val_acc,label='validation accuracy')\n",
    "plt.legend(loc='lower right')\n",
    "plt.title('Acurracy')\n",
    "\n",
    "plt.figure(figsize=(8,8))\n",
    "plt.subplot(1,2,1)\n",
    "plt.plot(range(epoc),los,label='training loss')\n",
    "plt.plot(range(epoc),val_loss,label='validation loss')\n",
    "plt.legend(loc='lower right')\n",
    "plt.title('loss')"
   ]
  },
  {
   "cell_type": "code",
   "execution_count": null,
   "id": "90c62046",
   "metadata": {},
   "outputs": [],
   "source": []
  }
 ],
 "metadata": {
  "kernelspec": {
   "display_name": "Python 3 (ipykernel)",
   "language": "python",
   "name": "python3"
  },
  "language_info": {
   "codemirror_mode": {
    "name": "ipython",
    "version": 3
   },
   "file_extension": ".py",
   "mimetype": "text/x-python",
   "name": "python",
   "nbconvert_exporter": "python",
   "pygments_lexer": "ipython3",
   "version": "3.9.19"
  }
 },
 "nbformat": 4,
 "nbformat_minor": 5
}
